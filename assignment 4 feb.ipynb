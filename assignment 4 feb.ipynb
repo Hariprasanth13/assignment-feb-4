{
 "cells": [
  {
   "cell_type": "markdown",
   "id": "c68e4ac4-a4aa-40f1-98ad-c385a95b4a03",
   "metadata": {},
   "source": [
    "1."
   ]
  },
  {
   "cell_type": "code",
   "execution_count": 1,
   "id": "609c0138-8ce2-49d7-943b-bd2dd4ca385c",
   "metadata": {},
   "outputs": [],
   "source": [
    "lst=[('Sachin Tendulkar', 34357), ('Ricky Ponting', 27483), ('Jack Kallis', 25534), ('Virat Kohli', 24936)]"
   ]
  },
  {
   "cell_type": "code",
   "execution_count": 2,
   "id": "8b7bdb52-e091-42c4-9a11-8d5f8e39079c",
   "metadata": {},
   "outputs": [
    {
     "data": {
      "text/plain": [
       "[('Sachin Tendulkar', 34357),\n",
       " ('Ricky Ponting', 27483),\n",
       " ('Jack Kallis', 25534),\n",
       " ('Virat Kohli', 24936)]"
      ]
     },
     "execution_count": 2,
     "metadata": {},
     "output_type": "execute_result"
    }
   ],
   "source": [
    "lst"
   ]
  },
  {
   "cell_type": "code",
   "execution_count": 20,
   "id": "4db05879-b43a-4257-ad91-449a89e2b9bd",
   "metadata": {},
   "outputs": [],
   "source": [
    "obj = lambda a,b: a if a>b else b "
   ]
  },
  {
   "cell_type": "code",
   "execution_count": 21,
   "id": "dafc7e73-403e-4cbf-b908-2922b426ec56",
   "metadata": {},
   "outputs": [
    {
     "data": {
      "text/plain": [
       "5"
      ]
     },
     "execution_count": 21,
     "metadata": {},
     "output_type": "execute_result"
    }
   ],
   "source": [
    "obj(3,5)"
   ]
  },
  {
   "cell_type": "code",
   "execution_count": 22,
   "id": "73dd5d12-86d3-4539-b713-60f041d4e66f",
   "metadata": {},
   "outputs": [
    {
     "data": {
      "text/plain": [
       "function"
      ]
     },
     "execution_count": 22,
     "metadata": {},
     "output_type": "execute_result"
    }
   ],
   "source": [
    "type(obj)"
   ]
  },
  {
   "cell_type": "code",
   "execution_count": 23,
   "id": "84ffd7c2-b0e0-4e37-acb9-ce6e6590077c",
   "metadata": {},
   "outputs": [],
   "source": [
    "lst.sort(key= lambda x:x[1])"
   ]
  },
  {
   "cell_type": "code",
   "execution_count": 24,
   "id": "328e504f-997a-4907-b3d2-1ee8ba27bd7c",
   "metadata": {},
   "outputs": [
    {
     "data": {
      "text/plain": [
       "[('Virat Kohli', 24936),\n",
       " ('Jack Kallis', 25534),\n",
       " ('Ricky Ponting', 27483),\n",
       " ('Sachin Tendulkar', 34357)]"
      ]
     },
     "execution_count": 24,
     "metadata": {},
     "output_type": "execute_result"
    }
   ],
   "source": [
    "lst"
   ]
  },
  {
   "cell_type": "markdown",
   "id": "914e69b5-899e-45e1-95b1-64720460173d",
   "metadata": {},
   "source": [
    "2.Question"
   ]
  },
  {
   "cell_type": "code",
   "execution_count": 28,
   "id": "a7812611-435b-4051-9c84-91be742f8355",
   "metadata": {},
   "outputs": [],
   "source": [
    "l=[1, 2, 3, 4, 5, 6, 7, 8, 9, 10]"
   ]
  },
  {
   "cell_type": "code",
   "execution_count": 32,
   "id": "34f059ee-718f-4f49-9730-5d3d351158f7",
   "metadata": {},
   "outputs": [],
   "source": [
    "a=map(lambda x:x**2,l)"
   ]
  },
  {
   "cell_type": "code",
   "execution_count": 33,
   "id": "3824e5f6-0357-4052-bcb9-02a78984ef05",
   "metadata": {},
   "outputs": [
    {
     "name": "stdout",
     "output_type": "stream",
     "text": [
      "1\n",
      "4\n",
      "9\n",
      "16\n",
      "25\n",
      "36\n",
      "49\n",
      "64\n",
      "81\n",
      "100\n"
     ]
    }
   ],
   "source": [
    "for i in a:\n",
    "    print(i)"
   ]
  },
  {
   "cell_type": "markdown",
   "id": "6fda106c-52d6-4d4e-9eee-f74e5a398b2b",
   "metadata": {},
   "source": [
    "3.Question"
   ]
  },
  {
   "cell_type": "code",
   "execution_count": 34,
   "id": "cc794c32-4a70-4f67-a53c-2b74eaad5e16",
   "metadata": {},
   "outputs": [
    {
     "data": {
      "text/plain": [
       "('1', '2', '3', '4', '5', '6', '7', '8', '9', '10')"
      ]
     },
     "execution_count": 34,
     "metadata": {},
     "output_type": "execute_result"
    }
   ],
   "source": [
    "tuple(map(lambda x:str(x),l))"
   ]
  },
  {
   "cell_type": "markdown",
   "id": "2ebcc42c-2f8a-450b-9256-278a1377ac09",
   "metadata": {},
   "source": [
    "4. Question"
   ]
  },
  {
   "cell_type": "code",
   "execution_count": 38,
   "id": "4ae3f9c6-bb01-4975-8c4f-a58fb35aece6",
   "metadata": {},
   "outputs": [],
   "source": [
    "from functools import reduce"
   ]
  },
  {
   "cell_type": "code",
   "execution_count": 42,
   "id": "a265d5cd-e3d5-4a9e-a7fc-d6cc294cf649",
   "metadata": {},
   "outputs": [],
   "source": [
    "lst=[]\n",
    "for i in range(1,26):\n",
    "    lst.append(i)"
   ]
  },
  {
   "cell_type": "code",
   "execution_count": 43,
   "id": "ae77b887-7ead-4df4-8f5a-73f7f2ec438c",
   "metadata": {},
   "outputs": [
    {
     "data": {
      "text/plain": [
       "15511210043330985984000000"
      ]
     },
     "execution_count": 43,
     "metadata": {},
     "output_type": "execute_result"
    }
   ],
   "source": [
    "reduce(lambda x,y:x*y,lst)"
   ]
  },
  {
   "cell_type": "markdown",
   "id": "ce2bd2fa-65bd-4021-994e-f5455920d027",
   "metadata": {},
   "source": [
    "5. Question"
   ]
  },
  {
   "cell_type": "code",
   "execution_count": 45,
   "id": "445385df-b90d-42f9-8ab1-4572d3693e11",
   "metadata": {},
   "outputs": [],
   "source": [
    "l=[2, 3, 6, 9, 27, 60, 90, 120, 55, 46]"
   ]
  },
  {
   "cell_type": "code",
   "execution_count": 47,
   "id": "d7165088-54fd-479c-a7e8-80dce8755b6a",
   "metadata": {},
   "outputs": [
    {
     "data": {
      "text/plain": [
       "[6, 60, 90, 120]"
      ]
     },
     "execution_count": 47,
     "metadata": {},
     "output_type": "execute_result"
    }
   ],
   "source": [
    "list(filter(lambda x: x%2==0 and x%3==0,l))"
   ]
  },
  {
   "cell_type": "markdown",
   "id": "ad4e09f7-db86-4406-85e6-1fb70315531a",
   "metadata": {},
   "source": [
    "6.Question"
   ]
  },
  {
   "cell_type": "code",
   "execution_count": 53,
   "id": "918260f0-cdd6-4ad3-8dcc-65d8d7330177",
   "metadata": {},
   "outputs": [],
   "source": [
    "l2=['python', 'php', 'aba', 'radar', 'level']"
   ]
  },
  {
   "cell_type": "code",
   "execution_count": 55,
   "id": "561eb03a-d381-4f6a-8fe6-02a9ed50b7b9",
   "metadata": {},
   "outputs": [
    {
     "data": {
      "text/plain": [
       "['php', 'aba', 'radar', 'level']"
      ]
     },
     "execution_count": 55,
     "metadata": {},
     "output_type": "execute_result"
    }
   ],
   "source": [
    "list(filter(lambda x: x==x[::-1],l2))"
   ]
  },
  {
   "cell_type": "code",
   "execution_count": null,
   "id": "def7ac04-1582-4f74-813c-1bf15d343f4e",
   "metadata": {},
   "outputs": [],
   "source": []
  }
 ],
 "metadata": {
  "kernelspec": {
   "display_name": "Python 3 (ipykernel)",
   "language": "python",
   "name": "python3"
  },
  "language_info": {
   "codemirror_mode": {
    "name": "ipython",
    "version": 3
   },
   "file_extension": ".py",
   "mimetype": "text/x-python",
   "name": "python",
   "nbconvert_exporter": "python",
   "pygments_lexer": "ipython3",
   "version": "3.10.8"
  }
 },
 "nbformat": 4,
 "nbformat_minor": 5
}
